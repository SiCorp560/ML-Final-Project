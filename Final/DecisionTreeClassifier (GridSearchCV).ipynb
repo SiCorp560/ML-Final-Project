{
 "cells": [
  {
   "cell_type": "code",
   "execution_count": 1,
   "id": "023d25c7-77aa-42bc-806e-98d50239e1ec",
   "metadata": {},
   "outputs": [],
   "source": [
    "import pandas as pd\n",
    "import numpy as np\n",
    "\n",
    "import matplotlib.pyplot as plt\n",
    "import seaborn as sns\n",
    "\n",
    "from sklearn.model_selection import train_test_split, GridSearchCV, StratifiedKFold\n",
    "from sklearn.tree import DecisionTreeClassifier\n",
    "\n",
    "from sklearn.preprocessing import StandardScaler, OneHotEncoder\n",
    "from sklearn.impute import SimpleImputer\n",
    "\n",
    "from sklearn.compose import ColumnTransformer\n",
    "from sklearn.pipeline import Pipeline\n",
    "\n",
    "from sklearn.metrics import classification_report, confusion_matrix, precision_recall_curve, auc, roc_curve, roc_auc_score"
   ]
  },
  {
   "cell_type": "code",
   "execution_count": 2,
   "id": "eb51044b-28ae-4bfa-bd46-7ead9b36fcbb",
   "metadata": {},
   "outputs": [
    {
     "data": {
      "text/html": [
       "<div>\n",
       "<style scoped>\n",
       "    .dataframe tbody tr th:only-of-type {\n",
       "        vertical-align: middle;\n",
       "    }\n",
       "\n",
       "    .dataframe tbody tr th {\n",
       "        vertical-align: top;\n",
       "    }\n",
       "\n",
       "    .dataframe thead th {\n",
       "        text-align: right;\n",
       "    }\n",
       "</style>\n",
       "<table border=\"1\" class=\"dataframe\">\n",
       "  <thead>\n",
       "    <tr style=\"text-align: right;\">\n",
       "      <th></th>\n",
       "      <th>Unnamed: 0</th>\n",
       "      <th>geo_name</th>\n",
       "      <th>year</th>\n",
       "      <th>votes</th>\n",
       "      <th>vote_share</th>\n",
       "      <th>incumbent</th>\n",
       "      <th>winner</th>\n",
       "      <th>prob_democrat</th>\n",
       "      <th>prob_republican</th>\n",
       "      <th>pid_est</th>\n",
       "      <th>prob_male</th>\n",
       "      <th>prob_female</th>\n",
       "      <th>gender_est</th>\n",
       "      <th>prob_black</th>\n",
       "      <th>prob_white</th>\n",
       "      <th>prob_hispanic</th>\n",
       "      <th>prob_asian</th>\n",
       "      <th>prob_other</th>\n",
       "      <th>race_est</th>\n",
       "      <th>contributor.cfscore</th>\n",
       "      <th>percent_women</th>\n",
       "      <th>percent_white</th>\n",
       "      <th>percent_black</th>\n",
       "      <th>percent_hispanic</th>\n",
       "      <th>percent_asian_american</th>\n",
       "      <th>candidate_count</th>\n",
       "      <th>UE 12Mo Avg</th>\n",
       "      <th>UE 12Mo Max</th>\n",
       "      <th>UE 12Mo Min</th>\n",
       "      <th>UE 3Mo Avg</th>\n",
       "      <th>UE 3Mo Max</th>\n",
       "      <th>UE 3Mo Min</th>\n",
       "      <th>CPI 12Mo Avg</th>\n",
       "      <th>CPI 12Mo Max</th>\n",
       "      <th>CPI 12Mo Min</th>\n",
       "      <th>CPI 3Mo Avg</th>\n",
       "      <th>CPI 3Mo Max</th>\n",
       "      <th>CPI 3Mo Min</th>\n",
       "      <th>pid_est_knn</th>\n",
       "      <th>gender_est_knn</th>\n",
       "      <th>race_est_knn</th>\n",
       "    </tr>\n",
       "  </thead>\n",
       "  <tbody>\n",
       "    <tr>\n",
       "      <th>0</th>\n",
       "      <td>3244</td>\n",
       "      <td>Abilene</td>\n",
       "      <td>1996</td>\n",
       "      <td>3826.0</td>\n",
       "      <td>0.89</td>\n",
       "      <td>1.0</td>\n",
       "      <td>1</td>\n",
       "      <td>0.050000</td>\n",
       "      <td>0.950000</td>\n",
       "      <td>Republican</td>\n",
       "      <td>1.0</td>\n",
       "      <td>0.0</td>\n",
       "      <td>Male</td>\n",
       "      <td>0.00</td>\n",
       "      <td>1.00</td>\n",
       "      <td>0.0</td>\n",
       "      <td>0.0</td>\n",
       "      <td>0.0</td>\n",
       "      <td>Caucasian</td>\n",
       "      <td>1.020000</td>\n",
       "      <td>0.502459</td>\n",
       "      <td>0.798016</td>\n",
       "      <td>0.080899</td>\n",
       "      <td>0.178764</td>\n",
       "      <td>0.101590</td>\n",
       "      <td>2</td>\n",
       "      <td>5.591667</td>\n",
       "      <td>5.7</td>\n",
       "      <td>5.5</td>\n",
       "      <td>5.533333</td>\n",
       "      <td>5.6</td>\n",
       "      <td>5.5</td>\n",
       "      <td>153.791667</td>\n",
       "      <td>156.10</td>\n",
       "      <td>152.10</td>\n",
       "      <td>155.533333</td>\n",
       "      <td>156.10</td>\n",
       "      <td>155.000</td>\n",
       "      <td>1.000000</td>\n",
       "      <td>1.0</td>\n",
       "      <td>2.0</td>\n",
       "    </tr>\n",
       "    <tr>\n",
       "      <th>1</th>\n",
       "      <td>4719</td>\n",
       "      <td>Abilene</td>\n",
       "      <td>1996</td>\n",
       "      <td>451.0</td>\n",
       "      <td>0.11</td>\n",
       "      <td>0.0</td>\n",
       "      <td>0</td>\n",
       "      <td>0.573265</td>\n",
       "      <td>0.426735</td>\n",
       "      <td>Unknown</td>\n",
       "      <td>1.0</td>\n",
       "      <td>0.0</td>\n",
       "      <td>Male</td>\n",
       "      <td>0.03</td>\n",
       "      <td>0.97</td>\n",
       "      <td>0.0</td>\n",
       "      <td>0.0</td>\n",
       "      <td>0.0</td>\n",
       "      <td>Caucasian</td>\n",
       "      <td>-0.145909</td>\n",
       "      <td>0.502459</td>\n",
       "      <td>0.798016</td>\n",
       "      <td>0.080899</td>\n",
       "      <td>0.178764</td>\n",
       "      <td>0.101590</td>\n",
       "      <td>2</td>\n",
       "      <td>5.591667</td>\n",
       "      <td>5.7</td>\n",
       "      <td>5.5</td>\n",
       "      <td>5.533333</td>\n",
       "      <td>5.6</td>\n",
       "      <td>5.5</td>\n",
       "      <td>153.791667</td>\n",
       "      <td>156.10</td>\n",
       "      <td>152.10</td>\n",
       "      <td>155.533333</td>\n",
       "      <td>156.10</td>\n",
       "      <td>155.000</td>\n",
       "      <td>0.417135</td>\n",
       "      <td>1.0</td>\n",
       "      <td>2.0</td>\n",
       "    </tr>\n",
       "    <tr>\n",
       "      <th>2</th>\n",
       "      <td>530</td>\n",
       "      <td>Akron</td>\n",
       "      <td>2003</td>\n",
       "      <td>26967.0</td>\n",
       "      <td>0.71</td>\n",
       "      <td>1.0</td>\n",
       "      <td>1</td>\n",
       "      <td>1.000000</td>\n",
       "      <td>0.000000</td>\n",
       "      <td>Democrat</td>\n",
       "      <td>1.0</td>\n",
       "      <td>0.0</td>\n",
       "      <td>Male</td>\n",
       "      <td>0.00</td>\n",
       "      <td>1.00</td>\n",
       "      <td>0.0</td>\n",
       "      <td>0.0</td>\n",
       "      <td>0.0</td>\n",
       "      <td>Caucasian</td>\n",
       "      <td>-0.850000</td>\n",
       "      <td>0.520664</td>\n",
       "      <td>0.657211</td>\n",
       "      <td>0.293766</td>\n",
       "      <td>0.014515</td>\n",
       "      <td>0.022447</td>\n",
       "      <td>2</td>\n",
       "      <td>6.025000</td>\n",
       "      <td>6.3</td>\n",
       "      <td>5.8</td>\n",
       "      <td>6.066667</td>\n",
       "      <td>6.1</td>\n",
       "      <td>6.0</td>\n",
       "      <td>183.400000</td>\n",
       "      <td>185.10</td>\n",
       "      <td>181.50</td>\n",
       "      <td>184.833333</td>\n",
       "      <td>185.10</td>\n",
       "      <td>184.500</td>\n",
       "      <td>0.000000</td>\n",
       "      <td>1.0</td>\n",
       "      <td>2.0</td>\n",
       "    </tr>\n",
       "    <tr>\n",
       "      <th>3</th>\n",
       "      <td>1480</td>\n",
       "      <td>Akron</td>\n",
       "      <td>2003</td>\n",
       "      <td>11171.0</td>\n",
       "      <td>0.29</td>\n",
       "      <td>0.0</td>\n",
       "      <td>0</td>\n",
       "      <td>0.000000</td>\n",
       "      <td>1.000000</td>\n",
       "      <td>Republican</td>\n",
       "      <td>1.0</td>\n",
       "      <td>0.0</td>\n",
       "      <td>Male</td>\n",
       "      <td>0.58</td>\n",
       "      <td>0.41</td>\n",
       "      <td>0.0</td>\n",
       "      <td>0.0</td>\n",
       "      <td>0.0</td>\n",
       "      <td>Black</td>\n",
       "      <td>0.550000</td>\n",
       "      <td>0.520664</td>\n",
       "      <td>0.657211</td>\n",
       "      <td>0.293766</td>\n",
       "      <td>0.014515</td>\n",
       "      <td>0.022447</td>\n",
       "      <td>2</td>\n",
       "      <td>6.025000</td>\n",
       "      <td>6.3</td>\n",
       "      <td>5.8</td>\n",
       "      <td>6.066667</td>\n",
       "      <td>6.1</td>\n",
       "      <td>6.0</td>\n",
       "      <td>183.400000</td>\n",
       "      <td>185.10</td>\n",
       "      <td>181.50</td>\n",
       "      <td>184.833333</td>\n",
       "      <td>185.10</td>\n",
       "      <td>184.500</td>\n",
       "      <td>1.000000</td>\n",
       "      <td>1.0</td>\n",
       "      <td>1.0</td>\n",
       "    </tr>\n",
       "    <tr>\n",
       "      <th>4</th>\n",
       "      <td>419</td>\n",
       "      <td>Akron</td>\n",
       "      <td>2011</td>\n",
       "      <td>31674.0</td>\n",
       "      <td>0.70</td>\n",
       "      <td>1.0</td>\n",
       "      <td>1</td>\n",
       "      <td>1.000000</td>\n",
       "      <td>0.000000</td>\n",
       "      <td>Democrat</td>\n",
       "      <td>1.0</td>\n",
       "      <td>0.0</td>\n",
       "      <td>Male</td>\n",
       "      <td>0.00</td>\n",
       "      <td>1.00</td>\n",
       "      <td>0.0</td>\n",
       "      <td>0.0</td>\n",
       "      <td>0.0</td>\n",
       "      <td>Caucasian</td>\n",
       "      <td>-0.362011</td>\n",
       "      <td>0.517043</td>\n",
       "      <td>0.619837</td>\n",
       "      <td>0.313499</td>\n",
       "      <td>0.022048</td>\n",
       "      <td>0.030919</td>\n",
       "      <td>2</td>\n",
       "      <td>9.100000</td>\n",
       "      <td>9.8</td>\n",
       "      <td>8.8</td>\n",
       "      <td>8.933333</td>\n",
       "      <td>9.0</td>\n",
       "      <td>8.8</td>\n",
       "      <td>223.728833</td>\n",
       "      <td>226.75</td>\n",
       "      <td>219.59</td>\n",
       "      <td>226.484333</td>\n",
       "      <td>226.75</td>\n",
       "      <td>226.106</td>\n",
       "      <td>0.000000</td>\n",
       "      <td>1.0</td>\n",
       "      <td>2.0</td>\n",
       "    </tr>\n",
       "  </tbody>\n",
       "</table>\n",
       "</div>"
      ],
      "text/plain": [
       "   Unnamed: 0 geo_name  year    votes  vote_share  incumbent  winner  \\\n",
       "0        3244  Abilene  1996   3826.0        0.89        1.0       1   \n",
       "1        4719  Abilene  1996    451.0        0.11        0.0       0   \n",
       "2         530    Akron  2003  26967.0        0.71        1.0       1   \n",
       "3        1480    Akron  2003  11171.0        0.29        0.0       0   \n",
       "4         419    Akron  2011  31674.0        0.70        1.0       1   \n",
       "\n",
       "   prob_democrat  prob_republican     pid_est  prob_male  prob_female  \\\n",
       "0       0.050000         0.950000  Republican        1.0          0.0   \n",
       "1       0.573265         0.426735     Unknown        1.0          0.0   \n",
       "2       1.000000         0.000000    Democrat        1.0          0.0   \n",
       "3       0.000000         1.000000  Republican        1.0          0.0   \n",
       "4       1.000000         0.000000    Democrat        1.0          0.0   \n",
       "\n",
       "  gender_est  prob_black  prob_white  prob_hispanic  prob_asian  prob_other  \\\n",
       "0       Male        0.00        1.00            0.0         0.0         0.0   \n",
       "1       Male        0.03        0.97            0.0         0.0         0.0   \n",
       "2       Male        0.00        1.00            0.0         0.0         0.0   \n",
       "3       Male        0.58        0.41            0.0         0.0         0.0   \n",
       "4       Male        0.00        1.00            0.0         0.0         0.0   \n",
       "\n",
       "    race_est  contributor.cfscore  percent_women  percent_white  \\\n",
       "0  Caucasian             1.020000       0.502459       0.798016   \n",
       "1  Caucasian            -0.145909       0.502459       0.798016   \n",
       "2  Caucasian            -0.850000       0.520664       0.657211   \n",
       "3      Black             0.550000       0.520664       0.657211   \n",
       "4  Caucasian            -0.362011       0.517043       0.619837   \n",
       "\n",
       "   percent_black  percent_hispanic  percent_asian_american  candidate_count  \\\n",
       "0       0.080899          0.178764                0.101590                2   \n",
       "1       0.080899          0.178764                0.101590                2   \n",
       "2       0.293766          0.014515                0.022447                2   \n",
       "3       0.293766          0.014515                0.022447                2   \n",
       "4       0.313499          0.022048                0.030919                2   \n",
       "\n",
       "   UE 12Mo Avg  UE 12Mo Max  UE 12Mo Min  UE 3Mo Avg  UE 3Mo Max  UE 3Mo Min  \\\n",
       "0     5.591667          5.7          5.5    5.533333         5.6         5.5   \n",
       "1     5.591667          5.7          5.5    5.533333         5.6         5.5   \n",
       "2     6.025000          6.3          5.8    6.066667         6.1         6.0   \n",
       "3     6.025000          6.3          5.8    6.066667         6.1         6.0   \n",
       "4     9.100000          9.8          8.8    8.933333         9.0         8.8   \n",
       "\n",
       "   CPI 12Mo Avg  CPI 12Mo Max  CPI 12Mo Min  CPI 3Mo Avg  CPI 3Mo Max  \\\n",
       "0    153.791667        156.10        152.10   155.533333       156.10   \n",
       "1    153.791667        156.10        152.10   155.533333       156.10   \n",
       "2    183.400000        185.10        181.50   184.833333       185.10   \n",
       "3    183.400000        185.10        181.50   184.833333       185.10   \n",
       "4    223.728833        226.75        219.59   226.484333       226.75   \n",
       "\n",
       "   CPI 3Mo Min  pid_est_knn  gender_est_knn  race_est_knn  \n",
       "0      155.000     1.000000             1.0           2.0  \n",
       "1      155.000     0.417135             1.0           2.0  \n",
       "2      184.500     0.000000             1.0           2.0  \n",
       "3      184.500     1.000000             1.0           1.0  \n",
       "4      226.106     0.000000             1.0           2.0  "
      ]
     },
     "execution_count": 2,
     "metadata": {},
     "output_type": "execute_result"
    }
   ],
   "source": [
    "df = pd.read_csv(\"New Final Candidates Cleaned.csv\")\n",
    "pd.set_option('display.max_columns', None)\n",
    "df.head(5)"
   ]
  },
  {
   "cell_type": "markdown",
   "id": "730e7f09-41ab-481c-adfa-1d4965732169",
   "metadata": {},
   "source": [
    "# Hyperparameter Tuning with Grid Search CV"
   ]
  },
  {
   "cell_type": "code",
   "execution_count": 3,
   "id": "b0fb8920-1ddb-4172-a592-6d4fcdd50ed0",
   "metadata": {},
   "outputs": [],
   "source": [
    "def decision_tree_grid(cat_features, num_features):\n",
    "    X = df[cat_features + num_features]\n",
    "    Y = df[\"winner\"]\n",
    "    X_train, X_test, Y_train, Y_test = train_test_split(X, Y, test_size=0.2, random_state=42, stratify=Y)\n",
    "    \n",
    "    preprocessor = ColumnTransformer(\n",
    "        transformers=[\n",
    "            ('num', Pipeline(steps=[\n",
    "                ('scaler', StandardScaler())\n",
    "            ]), numeric_features),\n",
    "            ('cat', Pipeline(steps=[\n",
    "                ('onehot', OneHotEncoder())\n",
    "            ]), categorical_features)\n",
    "        ])\n",
    "    \n",
    "    model_pipeline = Pipeline(steps=[\n",
    "        ('preprocessor', preprocessor),\n",
    "        ('classifier', DecisionTreeClassifier(random_state=42))\n",
    "    ])\n",
    "\n",
    "    param_grid = {\n",
    "        'classifier__max_features': [None, 'sqrt'], # Maximum number of features, default = None\n",
    "        'classifier__min_samples_leaf': [1, 5, 10], # Minimum leaf node size, default = 1\n",
    "        'classifier__max_depth': [None, 5, 10], # Maximum tree depth, default = None\n",
    "        'classifier__criterion': ['gini', 'entropy'], # Split criterion, default = 'gini'\n",
    "    }\n",
    "\n",
    "    cv = StratifiedKFold(n_splits=5, shuffle=True, random_state=42)\n",
    "    \n",
    "    grid_search = GridSearchCV (\n",
    "        estimator  = model_pipeline,\n",
    "        param_grid = param_grid,\n",
    "                cv = cv,\n",
    "             refit = 'PR_AUC',\n",
    "            n_jobs = -1,\n",
    "           verbose = 2,\n",
    "        return_train_score=True,\n",
    "        scoring={\n",
    "            'accuracy': 'accuracy',\n",
    "            'precision': 'precision',\n",
    "            'recall': 'recall',\n",
    "            'f1': 'f1',\n",
    "            'roc_auc': 'roc_auc',\n",
    "            'PR_AUC': 'average_precision'\n",
    "        }\n",
    "    )\n",
    "\n",
    "    print(\"\\nStarting grid search...\")\n",
    "    # Fit the grid search to the data\n",
    "    grid_search.fit(X_train, Y_train)\n",
    "    \n",
    "    # Print best parameters and score\n",
    "    print(\"\\nBest parameters:\")\n",
    "    print(grid_search.best_params_)\n",
    "    print(f\"\\nBest cross-validation score: {grid_search.best_score_:.4f}\")\n",
    "    \n",
    "    # Get the best model\n",
    "    best_model = grid_search.best_estimator_\n",
    "    \n",
    "    # Evaluate on test set\n",
    "    Y_pred = best_model.predict(X_test)\n",
    "    Y_prob = best_model.predict_proba(X_test)[:, 1]\n",
    "    \n",
    "    print(\"\\nTest Set Evaluation:\")\n",
    "    print(classification_report(Y_test, Y_pred))\n",
    "    \n",
    "    print(\"AUC: \" + str(roc_auc_score(Y_test, Y_pred)))\n",
    "\n",
    "    return Y_test, Y_pred"
   ]
  },
  {
   "cell_type": "markdown",
   "id": "b14c3e78-4b30-432c-92a0-cef63b641ad3",
   "metadata": {},
   "source": [
    "# Feature Selection"
   ]
  },
  {
   "cell_type": "markdown",
   "id": "84d0a827-8cf3-4037-9134-14b1a153e8f7",
   "metadata": {},
   "source": [
    "### Base Model"
   ]
  },
  {
   "cell_type": "code",
   "execution_count": 4,
   "id": "76a6d23e-7bf1-4948-a2b8-b48a5dc2f980",
   "metadata": {},
   "outputs": [
    {
     "name": "stdout",
     "output_type": "stream",
     "text": [
      "\n",
      "Starting grid search...\n",
      "Fitting 5 folds for each of 36 candidates, totalling 180 fits\n",
      "\n",
      "Best parameters:\n",
      "{'classifier__criterion': 'entropy', 'classifier__max_depth': 10, 'classifier__max_features': 'sqrt', 'classifier__min_samples_leaf': 5}\n",
      "\n",
      "Best cross-validation score: 0.7727\n",
      "\n",
      "Test Set Evaluation:\n",
      "              precision    recall  f1-score   support\n",
      "\n",
      "           0       0.90      0.87      0.88       654\n",
      "           1       0.77      0.81      0.79       351\n",
      "\n",
      "    accuracy                           0.85      1005\n",
      "   macro avg       0.84      0.84      0.84      1005\n",
      "weighted avg       0.85      0.85      0.85      1005\n",
      "\n",
      "AUC: 0.8425272484905513\n"
     ]
    }
   ],
   "source": [
    "categorical_features = [\"pid_est\", \"gender_est\", \"race_est\", \"incumbent\"]\n",
    "numeric_features = [\"candidate_count\"]\n",
    "\n",
    "model_Y_test, model_Y_pred = decision_tree_grid(categorical_features, numeric_features)"
   ]
  },
  {
   "cell_type": "markdown",
   "id": "cd058124-0a1c-4681-9aa8-bc2e6e959566",
   "metadata": {},
   "source": [
    "### Demographic Information as KNN Features"
   ]
  },
  {
   "cell_type": "code",
   "execution_count": 5,
   "id": "124c9fcb-e153-42e0-a838-62e63f9e08b1",
   "metadata": {},
   "outputs": [
    {
     "name": "stdout",
     "output_type": "stream",
     "text": [
      "\n",
      "Starting grid search...\n",
      "Fitting 5 folds for each of 36 candidates, totalling 180 fits\n",
      "\n",
      "Best parameters:\n",
      "{'classifier__criterion': 'entropy', 'classifier__max_depth': None, 'classifier__max_features': 'sqrt', 'classifier__min_samples_leaf': 10}\n",
      "\n",
      "Best cross-validation score: 0.7760\n",
      "\n",
      "Test Set Evaluation:\n",
      "              precision    recall  f1-score   support\n",
      "\n",
      "           0       0.90      0.87      0.89       654\n",
      "           1       0.78      0.81      0.80       351\n",
      "\n",
      "    accuracy                           0.85      1005\n",
      "   macro avg       0.84      0.84      0.84      1005\n",
      "weighted avg       0.86      0.85      0.85      1005\n",
      "\n",
      "AUC: 0.8447162759089365\n"
     ]
    }
   ],
   "source": [
    "categorical_features = [\"incumbent\"]\n",
    "numeric_features = [\"candidate_count\", \"pid_est_knn\", \"gender_est_knn\", \"race_est_knn\"]\n",
    "\n",
    "model_Y_test, model_Y_pred = decision_tree_grid(categorical_features, numeric_features)"
   ]
  },
  {
   "cell_type": "markdown",
   "id": "32a0dda1-a3ea-499c-8cc1-6b2ca43f45b9",
   "metadata": {},
   "source": [
    "### Demographic Information as Numeric Features"
   ]
  },
  {
   "cell_type": "code",
   "execution_count": 6,
   "id": "7863c5b0-f3ae-495b-ae04-26502d8977f3",
   "metadata": {},
   "outputs": [
    {
     "name": "stdout",
     "output_type": "stream",
     "text": [
      "\n",
      "Starting grid search...\n",
      "Fitting 5 folds for each of 36 candidates, totalling 180 fits\n",
      "\n",
      "Best parameters:\n",
      "{'classifier__criterion': 'entropy', 'classifier__max_depth': 5, 'classifier__max_features': None, 'classifier__min_samples_leaf': 10}\n",
      "\n",
      "Best cross-validation score: 0.7901\n",
      "\n",
      "Test Set Evaluation:\n",
      "              precision    recall  f1-score   support\n",
      "\n",
      "           0       0.91      0.85      0.88       654\n",
      "           1       0.75      0.84      0.79       351\n",
      "\n",
      "    accuracy                           0.85      1005\n",
      "   macro avg       0.83      0.84      0.83      1005\n",
      "weighted avg       0.85      0.85      0.85      1005\n",
      "\n",
      "AUC: 0.8445398468334249\n"
     ]
    }
   ],
   "source": [
    "categorical_features = [\"incumbent\"]\n",
    "numeric_features = [\"candidate_count\", \"prob_democrat\", \"prob_republican\", \"prob_male\", \"prob_female\", \"prob_black\",\n",
    "                    \"prob_white\", \"prob_hispanic\", \"prob_asian\", \"prob_other\"]\n",
    "\n",
    "model_Y_test, model_Y_pred = decision_tree_grid(categorical_features, numeric_features)"
   ]
  },
  {
   "cell_type": "markdown",
   "id": "8784d385-faf2-418e-bc14-67ffebcb5df6",
   "metadata": {},
   "source": [
    "### Contributor Ideology Score"
   ]
  },
  {
   "cell_type": "code",
   "execution_count": 7,
   "id": "000f934d-23aa-44d5-9715-f150bd8a3ddb",
   "metadata": {},
   "outputs": [
    {
     "name": "stdout",
     "output_type": "stream",
     "text": [
      "\n",
      "Starting grid search...\n",
      "Fitting 5 folds for each of 36 candidates, totalling 180 fits\n",
      "\n",
      "Best parameters:\n",
      "{'classifier__criterion': 'entropy', 'classifier__max_depth': 10, 'classifier__max_features': 'sqrt', 'classifier__min_samples_leaf': 5}\n",
      "\n",
      "Best cross-validation score: 0.7844\n",
      "\n",
      "Test Set Evaluation:\n",
      "              precision    recall  f1-score   support\n",
      "\n",
      "           0       0.89      0.88      0.88       654\n",
      "           1       0.78      0.80      0.79       351\n",
      "\n",
      "    accuracy                           0.85      1005\n",
      "   macro avg       0.83      0.84      0.84      1005\n",
      "weighted avg       0.85      0.85      0.85      1005\n",
      "\n",
      "AUC: 0.8391228207741969\n"
     ]
    }
   ],
   "source": [
    "categorical_features = [\"pid_est\", \"gender_est\", \"race_est\", \"incumbent\"]\n",
    "numeric_features = [\"candidate_count\", \"contributor.cfscore\"]\n",
    "\n",
    "model_Y_test, model_Y_pred = decision_tree_grid(categorical_features, numeric_features)"
   ]
  },
  {
   "cell_type": "markdown",
   "id": "be521f54-3bd4-41cc-a6af-8da2c54c531c",
   "metadata": {},
   "source": [
    "### Population Gender Composition"
   ]
  },
  {
   "cell_type": "code",
   "execution_count": 8,
   "id": "95f82678-ca6a-4dc5-b062-bf5a2270588d",
   "metadata": {},
   "outputs": [
    {
     "name": "stdout",
     "output_type": "stream",
     "text": [
      "\n",
      "Starting grid search...\n",
      "Fitting 5 folds for each of 36 candidates, totalling 180 fits\n",
      "\n",
      "Best parameters:\n",
      "{'classifier__criterion': 'entropy', 'classifier__max_depth': None, 'classifier__max_features': 'sqrt', 'classifier__min_samples_leaf': 10}\n",
      "\n",
      "Best cross-validation score: 0.7861\n",
      "\n",
      "Test Set Evaluation:\n",
      "              precision    recall  f1-score   support\n",
      "\n",
      "           0       0.90      0.87      0.88       654\n",
      "           1       0.77      0.81      0.79       351\n",
      "\n",
      "    accuracy                           0.85      1005\n",
      "   macro avg       0.83      0.84      0.84      1005\n",
      "weighted avg       0.85      0.85      0.85      1005\n",
      "\n",
      "AUC: 0.8417627224966675\n"
     ]
    }
   ],
   "source": [
    "categorical_features = [\"pid_est\", \"gender_est\", \"race_est\", \"incumbent\"]\n",
    "numeric_features = [\"candidate_count\", \"percent_women\"]\n",
    "\n",
    "model_Y_test, model_Y_pred = decision_tree_grid(categorical_features, numeric_features)"
   ]
  },
  {
   "cell_type": "markdown",
   "id": "bc566fe7-5764-4c9e-98ec-965dba56e45b",
   "metadata": {},
   "source": [
    "### Population Race Composition"
   ]
  },
  {
   "cell_type": "code",
   "execution_count": 9,
   "id": "99cfea2a-fbf9-426a-84bf-46078ac1fea4",
   "metadata": {},
   "outputs": [
    {
     "name": "stdout",
     "output_type": "stream",
     "text": [
      "\n",
      "Starting grid search...\n",
      "Fitting 5 folds for each of 36 candidates, totalling 180 fits\n",
      "\n",
      "Best parameters:\n",
      "{'classifier__criterion': 'gini', 'classifier__max_depth': None, 'classifier__max_features': 'sqrt', 'classifier__min_samples_leaf': 10}\n",
      "\n",
      "Best cross-validation score: 0.7682\n",
      "\n",
      "Test Set Evaluation:\n",
      "              precision    recall  f1-score   support\n",
      "\n",
      "           0       0.89      0.86      0.87       654\n",
      "           1       0.75      0.80      0.78       351\n",
      "\n",
      "    accuracy                           0.84      1005\n",
      "   macro avg       0.82      0.83      0.82      1005\n",
      "weighted avg       0.84      0.84      0.84      1005\n",
      "\n",
      "AUC: 0.8291839828537076\n"
     ]
    }
   ],
   "source": [
    "categorical_features = [\"pid_est\", \"gender_est\", \"race_est\", \"incumbent\"]\n",
    "numeric_features = [\"candidate_count\", \"percent_black\", \"percent_white\",\n",
    "                    \"percent_hispanic\", \"percent_asian_american\"]\n",
    "\n",
    "model_Y_test, model_Y_pred = decision_tree_grid(categorical_features, numeric_features)"
   ]
  },
  {
   "cell_type": "markdown",
   "id": "46cc32c4-cc27-4d62-88e2-c947250357cb",
   "metadata": {},
   "source": [
    "### 12-Month Consumer Price Index"
   ]
  },
  {
   "cell_type": "code",
   "execution_count": 10,
   "id": "333e5b2b-e7d9-423b-a4a5-783f763e0bd1",
   "metadata": {},
   "outputs": [
    {
     "name": "stdout",
     "output_type": "stream",
     "text": [
      "\n",
      "Starting grid search...\n",
      "Fitting 5 folds for each of 36 candidates, totalling 180 fits\n",
      "\n",
      "Best parameters:\n",
      "{'classifier__criterion': 'entropy', 'classifier__max_depth': None, 'classifier__max_features': None, 'classifier__min_samples_leaf': 10}\n",
      "\n",
      "Best cross-validation score: 0.7850\n",
      "\n",
      "Test Set Evaluation:\n",
      "              precision    recall  f1-score   support\n",
      "\n",
      "           0       0.87      0.87      0.87       654\n",
      "           1       0.77      0.76      0.76       351\n",
      "\n",
      "    accuracy                           0.84      1005\n",
      "   macro avg       0.82      0.82      0.82      1005\n",
      "weighted avg       0.84      0.84      0.84      1005\n",
      "\n",
      "AUC: 0.8190752502679108\n"
     ]
    }
   ],
   "source": [
    "categorical_features = [\"pid_est\", \"gender_est\", \"race_est\", \"incumbent\"]\n",
    "numeric_features = [\"candidate_count\", \"CPI 12Mo Avg\", \"CPI 12Mo Max\", \"CPI 12Mo Min\"]\n",
    "\n",
    "model_Y_test, model_Y_pred = decision_tree_grid(categorical_features, numeric_features)"
   ]
  },
  {
   "cell_type": "markdown",
   "id": "068af3e7-be85-4e76-8804-3461b68ce8d0",
   "metadata": {},
   "source": [
    "### 3-Month Consumer Price Index"
   ]
  },
  {
   "cell_type": "code",
   "execution_count": 11,
   "id": "73b19a8a-9ce3-49be-83d1-927f08f7703e",
   "metadata": {},
   "outputs": [
    {
     "name": "stdout",
     "output_type": "stream",
     "text": [
      "\n",
      "Starting grid search...\n",
      "Fitting 5 folds for each of 36 candidates, totalling 180 fits\n",
      "\n",
      "Best parameters:\n",
      "{'classifier__criterion': 'gini', 'classifier__max_depth': 5, 'classifier__max_features': None, 'classifier__min_samples_leaf': 10}\n",
      "\n",
      "Best cross-validation score: 0.7811\n",
      "\n",
      "Test Set Evaluation:\n",
      "              precision    recall  f1-score   support\n",
      "\n",
      "           0       0.90      0.87      0.88       654\n",
      "           1       0.77      0.81      0.79       351\n",
      "\n",
      "    accuracy                           0.85      1005\n",
      "   macro avg       0.84      0.84      0.84      1005\n",
      "weighted avg       0.85      0.85      0.85      1005\n",
      "\n",
      "AUC: 0.8425272484905513\n"
     ]
    }
   ],
   "source": [
    "categorical_features = [\"pid_est\", \"gender_est\", \"race_est\", \"incumbent\"]\n",
    "numeric_features = [\"candidate_count\", \"CPI 3Mo Avg\", \"CPI 3Mo Max\", \"CPI 3Mo Min\"]\n",
    "\n",
    "model_Y_test, model_Y_pred = decision_tree_grid(categorical_features, numeric_features)"
   ]
  },
  {
   "cell_type": "markdown",
   "id": "b87d5130-0756-4b40-9349-2256fbdf0768",
   "metadata": {},
   "source": [
    "### 12-Month Unemployment Rate"
   ]
  },
  {
   "cell_type": "code",
   "execution_count": 12,
   "id": "273dc544-299c-4381-8d07-f3487395bce0",
   "metadata": {},
   "outputs": [
    {
     "name": "stdout",
     "output_type": "stream",
     "text": [
      "\n",
      "Starting grid search...\n",
      "Fitting 5 folds for each of 36 candidates, totalling 180 fits\n",
      "\n",
      "Best parameters:\n",
      "{'classifier__criterion': 'gini', 'classifier__max_depth': 10, 'classifier__max_features': 'sqrt', 'classifier__min_samples_leaf': 10}\n",
      "\n",
      "Best cross-validation score: 0.7844\n",
      "\n",
      "Test Set Evaluation:\n",
      "              precision    recall  f1-score   support\n",
      "\n",
      "           0       0.89      0.87      0.88       654\n",
      "           1       0.77      0.80      0.79       351\n",
      "\n",
      "    accuracy                           0.85      1005\n",
      "   macro avg       0.83      0.84      0.84      1005\n",
      "weighted avg       0.85      0.85      0.85      1005\n",
      "\n",
      "AUC: 0.838253744217047\n"
     ]
    }
   ],
   "source": [
    "categorical_features = [\"pid_est\", \"gender_est\", \"race_est\", \"incumbent\"]\n",
    "numeric_features = [\"candidate_count\", \"UE 12Mo Avg\", \"UE 12Mo Max\", \"UE 12Mo Min\"]\n",
    "\n",
    "model_Y_test, model_Y_pred = decision_tree_grid(categorical_features, numeric_features)"
   ]
  },
  {
   "cell_type": "markdown",
   "id": "b885550e-21a0-435b-a3ea-2718d6a9eeee",
   "metadata": {},
   "source": [
    "### 3-Month Unemployment Rate"
   ]
  },
  {
   "cell_type": "code",
   "execution_count": 13,
   "id": "b74c0920-b13e-49a3-93a4-0ee68b7e3775",
   "metadata": {},
   "outputs": [
    {
     "name": "stdout",
     "output_type": "stream",
     "text": [
      "\n",
      "Starting grid search...\n",
      "Fitting 5 folds for each of 36 candidates, totalling 180 fits\n",
      "\n",
      "Best parameters:\n",
      "{'classifier__criterion': 'entropy', 'classifier__max_depth': 10, 'classifier__max_features': 'sqrt', 'classifier__min_samples_leaf': 10}\n",
      "\n",
      "Best cross-validation score: 0.7916\n",
      "\n",
      "Test Set Evaluation:\n",
      "              precision    recall  f1-score   support\n",
      "\n",
      "           0       0.90      0.87      0.88       654\n",
      "           1       0.77      0.82      0.79       351\n",
      "\n",
      "    accuracy                           0.85      1005\n",
      "   macro avg       0.84      0.84      0.84      1005\n",
      "weighted avg       0.85      0.85      0.85      1005\n",
      "\n",
      "AUC: 0.8445071747824041\n"
     ]
    }
   ],
   "source": [
    "categorical_features = [\"pid_est\", \"gender_est\", \"race_est\", \"incumbent\"]\n",
    "numeric_features = [\"candidate_count\", \"UE 3Mo Avg\", \"UE 3Mo Max\", \"UE 3Mo Min\"]\n",
    "\n",
    "model_Y_test, model_Y_pred = decision_tree_grid(categorical_features, numeric_features)"
   ]
  },
  {
   "cell_type": "markdown",
   "id": "ee96219e-b5fe-442f-b2cf-3a9dfd0dd67b",
   "metadata": {},
   "source": [
    "# Best Features"
   ]
  },
  {
   "cell_type": "markdown",
   "id": "3f7cfa33-61c4-48cc-9718-a4e276490d12",
   "metadata": {},
   "source": [
    "### Without Incumbent"
   ]
  },
  {
   "cell_type": "code",
   "execution_count": 14,
   "id": "220678a4-2718-40d4-ba0f-c49d7acfb2be",
   "metadata": {},
   "outputs": [
    {
     "name": "stdout",
     "output_type": "stream",
     "text": [
      "\n",
      "Starting grid search...\n",
      "Fitting 5 folds for each of 36 candidates, totalling 180 fits\n",
      "\n",
      "Best parameters:\n",
      "{'classifier__criterion': 'entropy', 'classifier__max_depth': None, 'classifier__max_features': None, 'classifier__min_samples_leaf': 10}\n",
      "\n",
      "Best cross-validation score: 0.5228\n",
      "\n",
      "Test Set Evaluation:\n",
      "              precision    recall  f1-score   support\n",
      "\n",
      "           0       0.75      0.77      0.76       654\n",
      "           1       0.56      0.53      0.54       351\n",
      "\n",
      "    accuracy                           0.69      1005\n",
      "   macro avg       0.66      0.65      0.65      1005\n",
      "weighted avg       0.69      0.69      0.69      1005\n",
      "\n",
      "AUC: 0.6524673932930813\n"
     ]
    }
   ],
   "source": [
    "categorical_features = []\n",
    "numeric_features = [\"candidate_count\", \"pid_est_knn\", \"gender_est_knn\", \"race_est_knn\"]\n",
    "\n",
    "model_Y_test, model_Y_pred = decision_tree_grid(categorical_features, numeric_features)"
   ]
  },
  {
   "cell_type": "markdown",
   "id": "556791b2-82d4-4d81-8819-de7168fc0b97",
   "metadata": {},
   "source": [
    "### With Incumbent"
   ]
  },
  {
   "cell_type": "code",
   "execution_count": 15,
   "id": "eac96625-df6c-46f6-a2ef-89cddfe0a62a",
   "metadata": {},
   "outputs": [
    {
     "name": "stdout",
     "output_type": "stream",
     "text": [
      "\n",
      "Starting grid search...\n",
      "Fitting 5 folds for each of 36 candidates, totalling 180 fits\n",
      "\n",
      "Best parameters:\n",
      "{'classifier__criterion': 'entropy', 'classifier__max_depth': None, 'classifier__max_features': 'sqrt', 'classifier__min_samples_leaf': 10}\n",
      "\n",
      "Best cross-validation score: 0.7760\n",
      "\n",
      "Test Set Evaluation:\n",
      "              precision    recall  f1-score   support\n",
      "\n",
      "           0       0.90      0.87      0.89       654\n",
      "           1       0.78      0.81      0.80       351\n",
      "\n",
      "    accuracy                           0.85      1005\n",
      "   macro avg       0.84      0.84      0.84      1005\n",
      "weighted avg       0.86      0.85      0.85      1005\n",
      "\n",
      "AUC: 0.8447162759089365\n"
     ]
    }
   ],
   "source": [
    "categorical_features = [\"incumbent\"]\n",
    "numeric_features = [\"candidate_count\", \"pid_est_knn\", \"gender_est_knn\", \"race_est_knn\"]\n",
    "\n",
    "model_Y_test, model_Y_pred = decision_tree_grid(categorical_features, numeric_features)"
   ]
  },
  {
   "cell_type": "code",
   "execution_count": 16,
   "id": "09ff0754-40b4-4171-80c1-1694a9acdd2d",
   "metadata": {},
   "outputs": [
    {
     "data": {
      "text/plain": [
       "Text(0.5, 1.0, 'Confusion Matrix')"
      ]
     },
     "execution_count": 16,
     "metadata": {},
     "output_type": "execute_result"
    },
    {
     "data": {
      "image/png": "[encoded data removed]",
      "text/plain": [
       "<Figure size 800x600 with 1 Axes>"
      ]
     },
     "metadata": {},
     "output_type": "display_data"
    }
   ],
   "source": [
    "plt.figure(figsize=(8, 6))\n",
    "cm = confusion_matrix(model_Y_test, model_Y_pred)\n",
    "sns.heatmap(cm, annot=True, fmt='d', cmap='Blues', cbar=False)\n",
    "plt.xlabel('Predicted')\n",
    "plt.ylabel('Actual')\n",
    "plt.title('Confusion Matrix')"
   ]
  },
  {
   "cell_type": "code",
   "execution_count": 17,
   "id": "73eef3bb-927f-4ab4-88f3-cc3aac7b0ed2",
   "metadata": {},
   "outputs": [
    {
     "data": {
      "text/plain": [
       "<matplotlib.legend.Legend at 0x2008e5feb40>"
      ]
     },
     "execution_count": 17,
     "metadata": {},
     "output_type": "execute_result"
    },
    {
     "data": {
      "image/png": "[encoded data removed]",
      "text/plain": [
       "<Figure size 1000x800 with 1 Axes>"
      ]
     },
     "metadata": {},
     "output_type": "display_data"
    }
   ],
   "source": [
    "roc_auc = roc_auc_score(model_Y_test, model_Y_pred)\n",
    "\n",
    "plt.figure(figsize=(10, 8))\n",
    "plt.subplot(2, 1, 1)\n",
    "fpr, tpr, _ = roc_curve(model_Y_test, model_Y_pred)\n",
    "plt.plot(fpr, tpr, label=f'ROC Curve (AUC = {roc_auc:.4f})')\n",
    "plt.plot([0, 1], [0, 1], 'k--')\n",
    "plt.xlabel('False Positive Rate')\n",
    "plt.ylabel('True Positive Rate')\n",
    "plt.title('ROC Curve')\n",
    "plt.legend(loc='lower right')"
   ]
  }
 ],
 "metadata": {
  "kernelspec": {
   "display_name": "Python 3 (ipykernel)",
   "language": "python",
   "name": "python3"
  },
  "language_info": {
   "codemirror_mode": {
    "name": "ipython",
    "version": 3
   },
   "file_extension": ".py",
   "mimetype": "text/x-python",
   "name": "python",
   "nbconvert_exporter": "python",
   "pygments_lexer": "ipython3",
   "version": "3.12.4"
  }
 },
 "nbformat": 4,
 "nbformat_minor": 5
}
