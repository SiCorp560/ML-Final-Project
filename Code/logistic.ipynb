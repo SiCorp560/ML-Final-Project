{
 "cells": [
  {
   "cell_type": "code",
   "execution_count": 47,
   "metadata": {},
   "outputs": [],
   "source": [
    "import pandas as pd\n",
    "from sklearn.model_selection import train_test_split\n",
    "from sklearn.linear_model import LogisticRegression\n",
    "from sklearn.linear_model import LinearRegression\n",
    "from sklearn.metrics import accuracy_score\n",
    "from sklearn.model_selection import cross_validate\n",
    "from sklearn.metrics import r2_score"
   ]
  },
  {
   "cell_type": "code",
   "execution_count": 20,
   "metadata": {},
   "outputs": [],
   "source": [
    "data = pd.read_csv('mayoralElections.csv')"
   ]
  },
  {
   "cell_type": "code",
   "execution_count": 21,
   "metadata": {},
   "outputs": [
    {
     "data": {
      "text/html": [
       "<div>\n",
       "<style scoped>\n",
       "    .dataframe tbody tr th:only-of-type {\n",
       "        vertical-align: middle;\n",
       "    }\n",
       "\n",
       "    .dataframe tbody tr th {\n",
       "        vertical-align: top;\n",
       "    }\n",
       "\n",
       "    .dataframe thead th {\n",
       "        text-align: right;\n",
       "    }\n",
       "</style>\n",
       "<table border=\"1\" class=\"dataframe\">\n",
       "  <thead>\n",
       "    <tr style=\"text-align: right;\">\n",
       "      <th></th>\n",
       "      <th>contest</th>\n",
       "      <th>fips</th>\n",
       "      <th>geo_name</th>\n",
       "      <th>year</th>\n",
       "      <th>month</th>\n",
       "      <th>votes</th>\n",
       "      <th>candidate_count</th>\n",
       "      <th>incumbent</th>\n",
       "      <th>winner</th>\n",
       "      <th>vote_share</th>\n",
       "      <th>...</th>\n",
       "      <th>prob_white</th>\n",
       "      <th>prob_hispanic</th>\n",
       "      <th>prob_asian</th>\n",
       "      <th>prob_other</th>\n",
       "      <th>race_est</th>\n",
       "      <th>percent_women</th>\n",
       "      <th>percent_white</th>\n",
       "      <th>percent_black</th>\n",
       "      <th>percent_hispanic</th>\n",
       "      <th>percent_asian_american</th>\n",
       "    </tr>\n",
       "  </thead>\n",
       "  <tbody>\n",
       "    <tr>\n",
       "      <th>0</th>\n",
       "      <td>3651000_1993_11_new york_NY_Mayor_mayor_1</td>\n",
       "      <td>3651000</td>\n",
       "      <td>new york</td>\n",
       "      <td>1993</td>\n",
       "      <td>11.0</td>\n",
       "      <td>876896</td>\n",
       "      <td>5</td>\n",
       "      <td>1</td>\n",
       "      <td>lose</td>\n",
       "      <td>0.48</td>\n",
       "      <td>...</td>\n",
       "      <td>0.0</td>\n",
       "      <td>0.0</td>\n",
       "      <td>0.0</td>\n",
       "      <td>0.0</td>\n",
       "      <td>black</td>\n",
       "      <td>0.529239</td>\n",
       "      <td>0.499826</td>\n",
       "      <td>0.280773</td>\n",
       "      <td>0.251432</td>\n",
       "      <td>0.200464</td>\n",
       "    </tr>\n",
       "    <tr>\n",
       "      <th>1</th>\n",
       "      <td>3651000_1997_11_new york_NY_Mayor_mayor_1</td>\n",
       "      <td>3651000</td>\n",
       "      <td>new york</td>\n",
       "      <td>1997</td>\n",
       "      <td>11.0</td>\n",
       "      <td>783815</td>\n",
       "      <td>6</td>\n",
       "      <td>1</td>\n",
       "      <td>win</td>\n",
       "      <td>0.58</td>\n",
       "      <td>...</td>\n",
       "      <td>1.0</td>\n",
       "      <td>0.0</td>\n",
       "      <td>0.0</td>\n",
       "      <td>0.0</td>\n",
       "      <td>caucasian</td>\n",
       "      <td>0.527511</td>\n",
       "      <td>0.469403</td>\n",
       "      <td>0.272300</td>\n",
       "      <td>0.261922</td>\n",
       "      <td>0.219124</td>\n",
       "    </tr>\n",
       "    <tr>\n",
       "      <th>2</th>\n",
       "      <td>3651000_2017_11_new york_NY_Mayor_mayor_1</td>\n",
       "      <td>3651000</td>\n",
       "      <td>new york</td>\n",
       "      <td>2017</td>\n",
       "      <td>11.0</td>\n",
       "      <td>760112</td>\n",
       "      <td>7</td>\n",
       "      <td>1</td>\n",
       "      <td>win</td>\n",
       "      <td>0.66</td>\n",
       "      <td>...</td>\n",
       "      <td>1.0</td>\n",
       "      <td>0.0</td>\n",
       "      <td>0.0</td>\n",
       "      <td>0.0</td>\n",
       "      <td>caucasian</td>\n",
       "      <td>0.523626</td>\n",
       "      <td>0.431091</td>\n",
       "      <td>0.246823</td>\n",
       "      <td>0.289247</td>\n",
       "      <td>0.175935</td>\n",
       "    </tr>\n",
       "    <tr>\n",
       "      <th>3</th>\n",
       "      <td>3651000_2005_11_new york_NY_Mayor_mayor_1</td>\n",
       "      <td>3651000</td>\n",
       "      <td>new york</td>\n",
       "      <td>2005</td>\n",
       "      <td>11.0</td>\n",
       "      <td>753089</td>\n",
       "      <td>8</td>\n",
       "      <td>1</td>\n",
       "      <td>win</td>\n",
       "      <td>0.58</td>\n",
       "      <td>...</td>\n",
       "      <td>1.0</td>\n",
       "      <td>0.0</td>\n",
       "      <td>0.0</td>\n",
       "      <td>0.0</td>\n",
       "      <td>caucasian</td>\n",
       "      <td>0.525647</td>\n",
       "      <td>0.443310</td>\n",
       "      <td>0.260708</td>\n",
       "      <td>0.277772</td>\n",
       "      <td>0.245357</td>\n",
       "    </tr>\n",
       "    <tr>\n",
       "      <th>4</th>\n",
       "      <td>3651000_2009_11_new york_NY_Mayor_mayor_1</td>\n",
       "      <td>3651000</td>\n",
       "      <td>new york</td>\n",
       "      <td>2009</td>\n",
       "      <td>11.0</td>\n",
       "      <td>585470</td>\n",
       "      <td>12</td>\n",
       "      <td>1</td>\n",
       "      <td>win</td>\n",
       "      <td>0.51</td>\n",
       "      <td>...</td>\n",
       "      <td>1.0</td>\n",
       "      <td>0.0</td>\n",
       "      <td>0.0</td>\n",
       "      <td>0.0</td>\n",
       "      <td>caucasian</td>\n",
       "      <td>0.525192</td>\n",
       "      <td>0.440690</td>\n",
       "      <td>0.256518</td>\n",
       "      <td>0.284158</td>\n",
       "      <td>0.255147</td>\n",
       "    </tr>\n",
       "  </tbody>\n",
       "</table>\n",
       "<p>5 rows × 28 columns</p>\n",
       "</div>"
      ],
      "text/plain": [
       "                                     contest     fips  geo_name  year  month  \\\n",
       "0  3651000_1993_11_new york_NY_Mayor_mayor_1  3651000  new york  1993   11.0   \n",
       "1  3651000_1997_11_new york_NY_Mayor_mayor_1  3651000  new york  1997   11.0   \n",
       "2  3651000_2017_11_new york_NY_Mayor_mayor_1  3651000  new york  2017   11.0   \n",
       "3  3651000_2005_11_new york_NY_Mayor_mayor_1  3651000  new york  2005   11.0   \n",
       "4  3651000_2009_11_new york_NY_Mayor_mayor_1  3651000  new york  2009   11.0   \n",
       "\n",
       "    votes  candidate_count  incumbent winner  vote_share  ...  prob_white  \\\n",
       "0  876896                5          1   lose        0.48  ...         0.0   \n",
       "1  783815                6          1    win        0.58  ...         1.0   \n",
       "2  760112                7          1    win        0.66  ...         1.0   \n",
       "3  753089                8          1    win        0.58  ...         1.0   \n",
       "4  585470               12          1    win        0.51  ...         1.0   \n",
       "\n",
       "   prob_hispanic  prob_asian prob_other   race_est  percent_women  \\\n",
       "0            0.0         0.0        0.0      black       0.529239   \n",
       "1            0.0         0.0        0.0  caucasian       0.527511   \n",
       "2            0.0         0.0        0.0  caucasian       0.523626   \n",
       "3            0.0         0.0        0.0  caucasian       0.525647   \n",
       "4            0.0         0.0        0.0  caucasian       0.525192   \n",
       "\n",
       "  percent_white  percent_black  percent_hispanic  percent_asian_american  \n",
       "0      0.499826       0.280773          0.251432                0.200464  \n",
       "1      0.469403       0.272300          0.261922                0.219124  \n",
       "2      0.431091       0.246823          0.289247                0.175935  \n",
       "3      0.443310       0.260708          0.277772                0.245357  \n",
       "4      0.440690       0.256518          0.284158                0.255147  \n",
       "\n",
       "[5 rows x 28 columns]"
      ]
     },
     "execution_count": 21,
     "metadata": {},
     "output_type": "execute_result"
    }
   ],
   "source": [
    "data.head()"
   ]
  },
  {
   "cell_type": "code",
   "execution_count": 25,
   "metadata": {},
   "outputs": [
    {
     "data": {
      "text/plain": [
       "contest                     0\n",
       "fips                        0\n",
       "geo_name                    0\n",
       "year                        0\n",
       "month                     163\n",
       "votes                       0\n",
       "candidate_count             0\n",
       "incumbent                   0\n",
       "winner                      0\n",
       "vote_share                  0\n",
       "n_winners                   0\n",
       "prob_democrat              85\n",
       "prob_republican            85\n",
       "pid_est                    85\n",
       "prob_male                  92\n",
       "prob_female                92\n",
       "gender_est                 92\n",
       "prob_black                  4\n",
       "prob_white                  4\n",
       "prob_hispanic               4\n",
       "prob_asian                  4\n",
       "prob_other                 25\n",
       "race_est                    4\n",
       "percent_women              93\n",
       "percent_white              93\n",
       "percent_black              93\n",
       "percent_hispanic           93\n",
       "percent_asian_american     93\n",
       "dtype: int64"
      ]
     },
     "execution_count": 25,
     "metadata": {},
     "output_type": "execute_result"
    }
   ],
   "source": [
    "data.isna().sum()"
   ]
  },
  {
   "cell_type": "code",
   "execution_count": 27,
   "metadata": {},
   "outputs": [],
   "source": [
    "clean_data = data.dropna(subset=['candidate_count', 'prob_white', 'percent_women', 'percent_white', 'percent_black', 'percent_hispanic'], how='any')\n",
    "X = clean_data[['candidate_count', 'prob_white', 'percent_women', 'percent_white', 'percent_black', 'percent_hispanic']]\n",
    "y = clean_data['winner']\n"
   ]
  },
  {
   "cell_type": "code",
   "execution_count": 28,
   "metadata": {},
   "outputs": [
    {
     "data": {
      "text/plain": [
       "candidate_count     0\n",
       "prob_white          0\n",
       "percent_women       0\n",
       "percent_white       0\n",
       "percent_black       0\n",
       "percent_hispanic    0\n",
       "dtype: int64"
      ]
     },
     "execution_count": 28,
     "metadata": {},
     "output_type": "execute_result"
    }
   ],
   "source": [
    "X.isna().sum()"
   ]
  },
  {
   "cell_type": "code",
   "execution_count": 29,
   "metadata": {},
   "outputs": [
    {
     "data": {
      "text/plain": [
       "0"
      ]
     },
     "execution_count": 29,
     "metadata": {},
     "output_type": "execute_result"
    }
   ],
   "source": [
    "y.isna().sum()"
   ]
  },
  {
   "cell_type": "code",
   "execution_count": null,
   "metadata": {},
   "outputs": [
    {
     "name": "stdout",
     "output_type": "stream",
     "text": [
      "accuracy score: 0.8286334056399133\n"
     ]
    }
   ],
   "source": [
    "# 1. train-test logistic\n",
    "X_train, X_test, y_train, y_test = train_test_split(X, y, test_size=0.2)\n",
    "\n",
    "model = LogisticRegression()\n",
    "model.fit(X_train, y_train)\n",
    "y_pred = model.predict(X_test)\n",
    "accuracy = accuracy_score(y_test, y_pred)\n",
    "print(f\"accuracy score: {accuracy}\")"
   ]
  },
  {
   "cell_type": "code",
   "execution_count": null,
   "metadata": {},
   "outputs": [
    {
     "data": {
      "text/plain": [
       "array([0.75757576, 0.83982684, 0.83913043, 0.83913043, 0.83913043,\n",
       "       0.83913043, 0.83478261, 0.83913043, 0.83913043, 0.84782609])"
      ]
     },
     "execution_count": 39,
     "metadata": {},
     "output_type": "execute_result"
    }
   ],
   "source": [
    "# 2. cross validation logistic\n",
    "cv_results = cross_validate(model, X, y, cv=10)\n",
    "cv_results['test_score']"
   ]
  },
  {
   "cell_type": "code",
   "execution_count": 48,
   "metadata": {},
   "outputs": [
    {
     "name": "stdout",
     "output_type": "stream",
     "text": [
      "-0.13118223772556137\n"
     ]
    }
   ],
   "source": [
    "# 3. train-test linear\n",
    "clean_data = data.dropna(subset=['candidate_count', 'prob_white', 'percent_women', 'percent_white', 'percent_black', 'percent_hispanic'], how='any')\n",
    "X = clean_data[['candidate_count', 'prob_white', 'percent_women', 'percent_white', 'percent_black', 'percent_hispanic']]\n",
    "y = clean_data['vote_share']\n",
    "\n",
    "X_train, X_test, y_train, y_test = train_test_split(X, y, test_size=0.2)\n",
    "\n",
    "model = LinearRegression()\n",
    "model.fit(X_train, y_train)\n",
    "y_pred = model.predict(X_test)\n",
    "\n",
    "print(r2_score(y_test,y_pred))\n",
    "# accuracy = accuracy_score(y_test, y_pred)\n",
    "# print(f\"accuracy score: {accuracy}\")"
   ]
  }
 ],
 "metadata": {
  "kernelspec": {
   "display_name": "py310",
   "language": "python",
   "name": "python3"
  },
  "language_info": {
   "codemirror_mode": {
    "name": "ipython",
    "version": 3
   },
   "file_extension": ".py",
   "mimetype": "text/x-python",
   "name": "python",
   "nbconvert_exporter": "python",
   "pygments_lexer": "ipython3",
   "version": "3.12.3"
  }
 },
 "nbformat": 4,
 "nbformat_minor": 2
}
